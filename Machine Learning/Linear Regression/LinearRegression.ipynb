{
 "cells": [
  {
   "cell_type": "markdown",
   "id": "66119e70",
   "metadata": {},
   "source": [
    "# Algorithm steps:\n",
    "\n",
    "1. calculate the error;\n",
    "2. calculate the new slope and linear coefficients;\n",
    "3. update slope and linear coefficient;\n",
    "4. returns to step 1 if the number of epochs has not yet been completed;\n",
    "\n",
    "### 1. Calculate the error\n",
    "\n",
    "Error function: $ \\dfrac{1}{n} \\sum_{i=0}^{n} (y - (mx_i + b))^2 $\n",
    "\n",
    "### 2. calculate the new slope and linear coefficients\n",
    "\n",
    "\n",
    "Derived from the error function with respect to the slope:\n",
    "\n",
    "$ \\dfrac{\\partial E}{\\partial m} = -\\dfrac{2}{n} \\sum_{i=0}^{n} x_i(y - (mx_i + b))$\n",
    "\n",
    "Derived from the error function with respect to the linear coefficient:\n",
    "\n",
    "$ \\dfrac{\\partial E}{\\partial b} = -\\dfrac{2}{n} \\sum_{i=0}^{n}(y - (mx_i + b))$\n",
    "\n",
    "### 3. update slope and linear coefficient\n",
    "\n",
    "$m_{i+1} = m_{i} - r\\dfrac{\\partial E}{\\partial m} $\n",
    "\n",
    "$b_{i+1} = b_{i} - r.\\dfrac{\\partial E}{\\partial b} $"
   ]
  },
  {
   "cell_type": "markdown",
   "id": "7788d84d",
   "metadata": {},
   "source": [
    "# Dataset\n",
    "\n",
    "https://www.kaggle.com/datasets/karthickveerakumar/salary-data-simple-linear-regression"
   ]
  },
  {
   "cell_type": "code",
   "execution_count": 1,
   "id": "4a3cbc7d",
   "metadata": {},
   "outputs": [],
   "source": [
    "class LinearRegression(object):\n",
    "\n",
    "    def __init__(self, x: list, y: list, learning_rate: float, epochs: int):\n",
    "        self.xy = [x, y]\n",
    "        self.epochs = epochs\n",
    "        self.points = self.formatting_data(x, y)\n",
    "        self.m = (sum(y) / len(y)) / (sum(x) / len(x))\n",
    "        self.b = sum(y) / len(y)\n",
    "        self.ds = 0\n",
    "        self.db = 0\n",
    "        self.r = learning_rate\n",
    "        self.error = 1\n",
    "        \n",
    "    def formatting_data(self, x: list, y: list):\n",
    "        \n",
    "        return [[mx, my] for mx, my in zip(x, y)]\n",
    "\n",
    "    def straight_line(self, x: float):\n",
    "\n",
    "        return self.m*x + self.b\n",
    "        \n",
    "    def derivatives(self):\n",
    "        \n",
    "        self.m = self.m - self.r * (-2 / len(self.points)) * self.ds\n",
    "        self.b = self.b - self.r * (-2 / len(self.points)) * self.db\n",
    "        \n",
    "    def MSE(self):\n",
    "        \n",
    "        s = sum([(self.points[i][1] - self.straight_line(self.points[i][0]))** 2 for i in range(len(self.points))])\n",
    "        self.ds = sum([self.points[i][0] * (self.points[i][1] - self.straight_line(self.points[i][0])) for i in range(len(self.points))])\n",
    "        self.db = sum([self.points[i][1] - self.straight_line(self.points[i][0]) for i in range(len(self.points))])\n",
    "        self.error = s * (1 / len(self.points))\n",
    "        return self.error\n",
    "    \n",
    "    def plot(self):\n",
    "        plt.scatter(self.xy[0], self.xy[1], color='orange')\n",
    "        plt.plot(list(range(0, int(max(self.xy[0])))), [self.m * x + self.b for x in range(0, int(max(self.xy[0])))], color='blue')\n",
    "        plt.show()\n",
    "        \n",
    "    def fit(self):\n",
    "        \n",
    "        for i in range(self.epochs):\n",
    "            self.MSE()\n",
    "            self.derivatives()\n",
    "        \n",
    "        print('Straight Line: {:.2f}x + {:.2f}'.format(self.m, self.b))"
   ]
  },
  {
   "cell_type": "code",
   "execution_count": 2,
   "id": "e2cc3c17",
   "metadata": {},
   "outputs": [],
   "source": [
    "import pandas as pd\n",
    "import matplotlib.pyplot as plt"
   ]
  },
  {
   "cell_type": "markdown",
   "id": "fe348e2d",
   "metadata": {},
   "source": [
    "#### Importing the dataset"
   ]
  },
  {
   "cell_type": "code",
   "execution_count": 3,
   "id": "c0708da9",
   "metadata": {},
   "outputs": [],
   "source": [
    "data = pd.read_csv('Salary_Data.csv', delimiter=',')"
   ]
  },
  {
   "cell_type": "markdown",
   "id": "03fa6827",
   "metadata": {},
   "source": [
    "#### Separating data into X and Y"
   ]
  },
  {
   "cell_type": "code",
   "execution_count": 4,
   "id": "87cc9b4b",
   "metadata": {},
   "outputs": [],
   "source": [
    "X = data.iloc[1:, 0].values\n",
    "Y = data.iloc[1:, 1].values"
   ]
  },
  {
   "cell_type": "code",
   "execution_count": 5,
   "id": "0d0e55d4",
   "metadata": {},
   "outputs": [
    {
     "data": {
      "text/plain": [
       "array([ 1.3,  1.5,  2. ,  2.2,  2.9,  3. ,  3.2,  3.2,  3.7,  3.9,  4. ,\n",
       "        4. ,  4.1,  4.5,  4.9,  5.1,  5.3,  5.9,  6. ,  6.8,  7.1,  7.9,\n",
       "        8.2,  8.7,  9. ,  9.5,  9.6, 10.3, 10.5])"
      ]
     },
     "execution_count": 5,
     "metadata": {},
     "output_type": "execute_result"
    }
   ],
   "source": [
    "X"
   ]
  },
  {
   "cell_type": "code",
   "execution_count": 6,
   "id": "d68f05a5",
   "metadata": {},
   "outputs": [
    {
     "data": {
      "text/plain": [
       "array([ 46205.,  37731.,  43525.,  39891.,  56642.,  60150.,  54445.,\n",
       "        64445.,  57189.,  63218.,  55794.,  56957.,  57081.,  61111.,\n",
       "        67938.,  66029.,  83088.,  81363.,  93940.,  91738.,  98273.,\n",
       "       101302., 113812., 109431., 105582., 116969., 112635., 122391.,\n",
       "       121872.])"
      ]
     },
     "execution_count": 6,
     "metadata": {},
     "output_type": "execute_result"
    }
   ],
   "source": [
    "Y"
   ]
  },
  {
   "cell_type": "markdown",
   "id": "a62503be",
   "metadata": {},
   "source": [
    "#### Instantiating a linear regression class object"
   ]
  },
  {
   "cell_type": "code",
   "execution_count": 7,
   "id": "2e377564",
   "metadata": {},
   "outputs": [],
   "source": [
    "lr = LinearRegression(x=X, y=Y, learning_rate=0.001, epochs=10000)"
   ]
  },
  {
   "cell_type": "code",
   "execution_count": 8,
   "id": "43bc42ce",
   "metadata": {},
   "outputs": [
    {
     "name": "stdout",
     "output_type": "stream",
     "text": [
      "Straight Line: 9364.78x + 26345.72\n"
     ]
    }
   ],
   "source": [
    "lr.fit()"
   ]
  },
  {
   "cell_type": "code",
   "execution_count": 9,
   "id": "d199fbe6",
   "metadata": {},
   "outputs": [
    {
     "data": {
      "image/png": "[encoded data removed]",
      "text/plain": [
       "<Figure size 432x288 with 1 Axes>"
      ]
     },
     "metadata": {
      "needs_background": "light"
     },
     "output_type": "display_data"
    }
   ],
   "source": [
    "lr.plot()"
   ]
  },
  {
   "cell_type": "code",
   "execution_count": null,
   "id": "e5cf2cc7",
   "metadata": {},
   "outputs": [],
   "source": []
  }
 ],
 "metadata": {
  "kernelspec": {
   "display_name": "Python 3 (ipykernel)",
   "language": "python",
   "name": "python3"
  },
  "language_info": {
   "codemirror_mode": {
    "name": "ipython",
    "version": 3
   },
   "file_extension": ".py",
   "mimetype": "text/x-python",
   "name": "python",
   "nbconvert_exporter": "python",
   "pygments_lexer": "ipython3",
   "version": "3.8.6"
  }
 },
 "nbformat": 4,
 "nbformat_minor": 5
}
